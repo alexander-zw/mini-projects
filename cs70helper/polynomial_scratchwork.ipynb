{
 "cells": [
  {
   "cell_type": "markdown",
   "metadata": {},
   "source": [
    "# Polynomial Scratchwork\n",
    "\n",
    "This notebook can be used as scratch work with polynomials over finite fields."
   ]
  },
  {
   "cell_type": "code",
   "execution_count": 1,
   "metadata": {},
   "outputs": [],
   "source": [
    "from polynomials import *"
   ]
  },
  {
   "cell_type": "code",
   "execution_count": 2,
   "metadata": {},
   "outputs": [],
   "source": [
    "def int_to_binary_list(x, length):\n",
    "    bin_str = ('{0:0' + str(length) + 'b}').format(x)\n",
    "    return [int(char) for char in bin_str]\n",
    "\n",
    "def generate_all_binary_polynomials(d):\n",
    "    \"\"\" Returns a list of all polynomials mod 2 of degree d. \"\"\"\n",
    "    result = []\n",
    "    for i in range(2**d):\n",
    "        coeffs = int_to_binary_list(i, d) + [1]\n",
    "        result.append(Polynomial(coeffs, 2))\n",
    "    return result"
   ]
  },
  {
   "cell_type": "code",
   "execution_count": 5,
   "metadata": {
    "scrolled": true
   },
   "outputs": [
    {
     "name": "stdout",
     "output_type": "stream",
     "text": [
      "x^3\n",
      "x^3 + x^2\n",
      "x^3 + x\n",
      "x^3 + x^2 + x\n",
      "x^3 + 1\n",
      "x^3 + x^2 + 1\n",
      "x^3 + x + 1\n",
      "x^3 + x^2 + x + 1\n",
      "True\n"
     ]
    }
   ],
   "source": [
    "ps = generate_all_binary_polynomials(3)\n",
    "for p in ps:\n",
    "    print(p)\n",
    "\n",
    "Polynomial.n = 5\n",
    "p1 = Polynomial([1, 2, 4, 0, 2])\n",
    "p2 = Polynomial([1, 2, 4, 0, 2])\n",
    "print(p1 == p2)"
   ]
  },
  {
   "cell_type": "markdown",
   "metadata": {},
   "source": [
    "Below is some code that tries to find all irreducible polynomials mod 2 of degree 4 or 5."
   ]
  },
  {
   "cell_type": "code",
   "execution_count": 6,
   "metadata": {},
   "outputs": [],
   "source": [
    "deg2_coeffs = [\n",
    "    [1, 0, 1],\n",
    "    [1, 1, 1],\n",
    "]\n",
    "deg3_coeffs = [\n",
    "    [1, 0, 0, 1],\n",
    "    [1, 1, 0, 1],\n",
    "    [1, 0, 1, 1],\n",
    "    [1, 1, 1, 1],\n",
    "]\n",
    "\n",
    "Polynomial.n = 2\n",
    "deg2_ps = [Polynomial(coeffs) for coeffs in deg2_coeffs]\n",
    "deg3_ps = [Polynomial(coeffs) for coeffs in deg3_coeffs]"
   ]
  },
  {
   "cell_type": "code",
   "execution_count": 7,
   "metadata": {},
   "outputs": [
    {
     "name": "stdout",
     "output_type": "stream",
     "text": [
      "Degree 4 reducible polynomials:\n",
      "x^2 + 1             * x^2 + 1             = x^4 + 1\n",
      "x^2 + 1             * x^2 + x + 1         = x^4 + x^3 + x + 1\n",
      "x^2 + x + 1         * x^2 + 1             = x^4 + x^3 + x + 1\n",
      "x^2 + x + 1         * x^2 + x + 1         = x^4 + x^2 + 1\n",
      "\n",
      "Degree 5 reducible polynomials:\n",
      "x^2 + 1             * x^3 + 1             = x^5 + x^3 + x^2 + 1\n",
      "x^2 + 1             * x^3 + x + 1         = x^5 + x^2 + x + 1\n",
      "x^2 + 1             * x^3 + x^2 + 1       = x^5 + x^4 + x^3 + 1\n",
      "x^2 + 1             * x^3 + x^2 + x + 1   = x^5 + x^4 + x + 1\n",
      "x^2 + x + 1         * x^3 + 1             = x^5 + x^4 + x^3 + x^2 + x + 1\n",
      "x^2 + x + 1         * x^3 + x + 1         = x^5 + x^4 + 1\n",
      "x^2 + x + 1         * x^3 + x^2 + 1       = x^5 + x + 1\n",
      "x^2 + x + 1         * x^3 + x^2 + x + 1   = x^5 + x^3 + x^2 + 1\n"
     ]
    }
   ],
   "source": [
    "print(\"Degree 4 reducible polynomials:\")\n",
    "for p1 in deg2_ps:\n",
    "    for p2 in deg2_ps:\n",
    "        prod = p1 * p2\n",
    "        print(f\"{str(p1):19} * {str(p2):19} = {prod}\")\n",
    "\n",
    "print()\n",
    "print(\"Degree 5 reducible polynomials:\")\n",
    "for p1 in deg2_ps:\n",
    "    for p2 in deg3_ps:\n",
    "        prod = p1 * p2\n",
    "        print(f\"{str(p1):19} * {str(p2):19} = {prod}\")"
   ]
  },
  {
   "cell_type": "code",
   "execution_count": 8,
   "metadata": {},
   "outputs": [
    {
     "name": "stdout",
     "output_type": "stream",
     "text": [
      "Degree 4 reducible polynomials:\n",
      "$(x^2 + 1)^2 = x^4 + 1$\n",
      "\n",
      "$(x^2 + 1) (x^2 + x + 1) = x^4 + x^3 + x + 1$\n",
      "\n",
      "$(x^2 + x + 1) (x^2 + 1) = x^4 + x^3 + x + 1$\n",
      "\n",
      "$(x^2 + x + 1)^2 = x^4 + x^2 + 1$\n",
      "\n",
      "\n",
      "Degree 5 reducible polynomials:\n",
      "$(x^2 + 1) (x^3 + 1) = x^5 + x^3 + x^2 + 1$\n",
      "\n",
      "$(x^2 + 1) (x^3 + x + 1) = x^5 + x^2 + x + 1$\n",
      "\n",
      "$(x^2 + 1) (x^3 + x^2 + 1) = x^5 + x^4 + x^3 + 1$\n",
      "\n",
      "$(x^2 + 1) (x^3 + x^2 + x + 1) = x^5 + x^4 + x + 1$\n",
      "\n",
      "$(x^2 + x + 1) (x^3 + 1) = x^5 + x^4 + x^3 + x^2 + x + 1$\n",
      "\n",
      "$(x^2 + x + 1) (x^3 + x + 1) = x^5 + x^4 + 1$\n",
      "\n",
      "$(x^2 + x + 1) (x^3 + x^2 + 1) = x^5 + x + 1$\n",
      "\n",
      "$(x^2 + x + 1) (x^3 + x^2 + x + 1) = x^5 + x^3 + x^2 + 1$\n",
      "\n"
     ]
    }
   ],
   "source": [
    "# LaTeX-friendly printouts:\n",
    "print(\"Degree 4 reducible polynomials:\")\n",
    "for p1 in deg2_ps:\n",
    "    for p2 in deg2_ps:\n",
    "        prod = p1 * p2\n",
    "        if p1 == p2:\n",
    "            print(f\"$({str(p1)})^2 = {prod}$\\n\")\n",
    "        else:\n",
    "            print(f\"$({str(p1)}) ({str(p2)}) = {prod}$\\n\")\n",
    "\n",
    "print()\n",
    "print(\"Degree 5 reducible polynomials:\")\n",
    "for p1 in deg2_ps:\n",
    "    for p2 in deg3_ps:\n",
    "        prod = p1 * p2\n",
    "        print(f\"$({str(p1)}) ({str(p2)}) = {prod}$\\n\")"
   ]
  },
  {
   "cell_type": "code",
   "execution_count": null,
   "metadata": {},
   "outputs": [],
   "source": []
  }
 ],
 "metadata": {
  "kernelspec": {
   "display_name": "Python 3",
   "language": "python",
   "name": "python3"
  },
  "language_info": {
   "codemirror_mode": {
    "name": "ipython",
    "version": 3
   },
   "file_extension": ".py",
   "mimetype": "text/x-python",
   "name": "python",
   "nbconvert_exporter": "python",
   "pygments_lexer": "ipython3",
   "version": "3.8.5"
  },
  "toc": {
   "base_numbering": 1,
   "nav_menu": {},
   "number_sections": true,
   "sideBar": true,
   "skip_h1_title": false,
   "title_cell": "Table of Contents",
   "title_sidebar": "Contents",
   "toc_cell": false,
   "toc_position": {},
   "toc_section_display": true,
   "toc_window_display": false
  }
 },
 "nbformat": 4,
 "nbformat_minor": 4
}
