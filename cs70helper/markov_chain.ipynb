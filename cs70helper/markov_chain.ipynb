{
 "cells": [
  {
   "cell_type": "markdown",
   "metadata": {},
   "source": [
    "# CS 70 Final Review\n",
    "\n",
    "Answer for markov chain question.\n",
    "\n",
    "A fair die with labels (1 to 6) is rolled until the product of the last two rolls is 12. What is the expected number of rolls?\n",
    "\n",
    "The following code includes the first step analysis calculation as well as a simulation."
   ]
  },
  {
   "cell_type": "code",
   "execution_count": 20,
   "metadata": {},
   "outputs": [],
   "source": [
    "import numpy as np\n",
    "import numpy.linalg as la\n",
    "import matplotlib.pyplot as plt"
   ]
  },
  {
   "cell_type": "code",
   "execution_count": 2,
   "metadata": {},
   "outputs": [
    {
     "name": "stdout",
     "output_type": "stream",
     "text": [
      "[10.5  9.   9.   9.   9. ]\n"
     ]
    }
   ],
   "source": [
    "\"\"\"\n",
    "The rows are\n",
    "E(number of rounds from start, 1, or 5)\n",
    "E(number of rounds 2)\n",
    "E(number of rounds 6)\n",
    "E(number of rounds 3)\n",
    "E(number of rounds 4)\n",
    "\n",
    "E(number of rounds when the product is 12) = 0\n",
    "so it was not included in the equation.\n",
    "\"\"\"\n",
    "\n",
    "A = 1/6 * np.array([\n",
    "    [-4, 1, 1, 1, 1],\n",
    "    [2, -5, 0, 1, 1],\n",
    "    [2, 0, -5, 1, 1],\n",
    "    [2, 1, 1, -5, 0],\n",
    "    [2, 1, 1, 0, -5],\n",
    "])\n",
    "\n",
    "b = np.array([-1, -1, -1, -1, -1])\n",
    "\n",
    "print(la.solve(A, b))"
   ]
  },
  {
   "cell_type": "code",
   "execution_count": 43,
   "metadata": {},
   "outputs": [
    {
     "name": "stdout",
     "output_type": "stream",
     "text": [
      "The mean is 10.4891\n"
     ]
    },
    {
     "data": {
      "image/png": "[encoded data removed]",
      "text/plain": [
       "<Figure size 432x288 with 1 Axes>"
      ]
     },
     "metadata": {
      "needs_background": "light"
     },
     "output_type": "display_data"
    }
   ],
   "source": [
    "NUM_TRIALS = 100000\n",
    "\n",
    "num_rounds = np.zeros(NUM_TRIALS)\n",
    "last_rolls = np.zeros(NUM_TRIALS)\n",
    "round_i = 1\n",
    "while np.any(num_rounds == 0):\n",
    "    rolls = np.random.randint(1, 7, NUM_TRIALS)\n",
    "    num_rounds[(rolls * last_rolls == 12) & (num_rounds == 0)] = round_i\n",
    "    last_rolls = rolls\n",
    "    round_i += 1\n",
    "\n",
    "print(\"The mean is\", np.mean(num_rounds))\n",
    "plt.hist(num_rounds)\n",
    "plt.show()"
   ]
  },
  {
   "cell_type": "code",
   "execution_count": null,
   "metadata": {},
   "outputs": [],
   "source": []
  },
  {
   "cell_type": "code",
   "execution_count": null,
   "metadata": {},
   "outputs": [],
   "source": []
  }
 ],
 "metadata": {
  "kernelspec": {
   "display_name": "Python 3",
   "language": "python",
   "name": "python3"
  },
  "language_info": {
   "codemirror_mode": {
    "name": "ipython",
    "version": 3
   },
   "file_extension": ".py",
   "mimetype": "text/x-python",
   "name": "python",
   "nbconvert_exporter": "python",
   "pygments_lexer": "ipython3",
   "version": "3.8.5"
  },
  "toc": {
   "base_numbering": 1,
   "nav_menu": {},
   "number_sections": true,
   "sideBar": true,
   "skip_h1_title": false,
   "title_cell": "Table of Contents",
   "title_sidebar": "Contents",
   "toc_cell": false,
   "toc_position": {},
   "toc_section_display": true,
   "toc_window_display": false
  }
 },
 "nbformat": 4,
 "nbformat_minor": 4
}
