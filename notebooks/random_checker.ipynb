{
 "cells": [
  {
   "cell_type": "markdown",
   "metadata": {},
   "source": [
    "# Randomness Checker\n",
    "\n",
    "This code does some simple tests to see if a bit string is random"
   ]
  },
  {
   "cell_type": "code",
   "execution_count": null,
   "metadata": {},
   "outputs": [],
   "source": [
    "import numpy as np\n",
    "import matplotlib.pyplot as plt\n",
    "from scipy.stats import chisquare\n",
    "import random\n",
    "np.set_printoptions(suppress=True)"
   ]
  },
  {
   "cell_type": "code",
   "execution_count": null,
   "metadata": {},
   "outputs": [],
   "source": [
    "def to_bin_str(x, length):\n",
    "    return format(x, f\"0{length}b\")\n",
    "\n",
    "def all_bit_strings(length):\n",
    "    strings = []\n",
    "    for i in range(2**length):\n",
    "        strings.append(to_bin_str(i, length))\n",
    "    return strings\n",
    "\n",
    "def tally_substrings(string, length):\n",
    "    tallies = [0] * (2**length)\n",
    "    for i in range(0, len(string) - length + 1, length):\n",
    "        substring = int(string[i:i + length], 2)\n",
    "        tallies[substring] += 1\n",
    "    return np.array(tallies)\n",
    "\n",
    "def check_substrings(string, length):\n",
    "    tallies = tally_substrings(string, length)\n",
    "    _, p = chisquare(tallies)\n",
    "    return p\n",
    "\n",
    "def check_random(string):\n",
    "    max_len_check = min(10, len(string) // 2)\n",
    "    ps = []\n",
    "    lengths = np.arange(1, max_len_check + 1)\n",
    "    for length in lengths:\n",
    "        ps.append(check_substrings(string, length))\n",
    "    ps = np.array(ps)\n",
    "    print(f\"The p-values found were\\n{np.round(ps, 4)}\")\n",
    "    print(f\"{np.count_nonzero(ps <= 0.05)} / {max_len_check} p-values were \"\n",
    "          \"significant\")\n",
    "    print(f\"The smallest p-value was {np.round(np.min(ps), 6)}\")\n",
    "    plt.plot(lengths, ps)\n",
    "    plt.plot(lengths, np.full(lengths.shape, 0.05))\n",
    "    plt.legend([\"p-values\", \"0.05\"])\n",
    "    plt.xlabel(\"length of substring\")\n",
    "    plt.ylabel(\"p-value\")\n",
    "\n",
    "def plot_tallies(string, length):\n",
    "    plt.figure(figsize=(12, 4))\n",
    "    tallies = tally_substrings(string, length)\n",
    "    indices = np.arange(tallies.size)\n",
    "    plt.bar(indices, tallies)\n",
    "    plt.xticks(indices, [to_bin_str(i, length) for i in indices])\n",
    "    plt.xlabel(f\"strings of length {length}\")\n",
    "    plt.ylabel(\"frequency\")\n",
    "    print(f\"p-value is {chisquare(tallies)[1]}\")"
   ]
  },
  {
   "cell_type": "code",
   "execution_count": null,
   "metadata": {},
   "outputs": [],
   "source": [
    "string = \"01001100010100010101110101000101111101000001010110010100010100011101001010100\"\n",
    "check_random(string)"
   ]
  },
  {
   "cell_type": "code",
   "execution_count": null,
   "metadata": {},
   "outputs": [],
   "source": [
    "plot_tallies(string, 4)"
   ]
  },
  {
   "cell_type": "code",
   "execution_count": null,
   "metadata": {},
   "outputs": [],
   "source": [
    "rand_string = \"1011001100001001111011110110100111111111011110010111010100000111101\" \\\n",
    "              \"1000000110\"\n",
    "check_random(rand_string)"
   ]
  },
  {
   "cell_type": "code",
   "execution_count": null,
   "metadata": {},
   "outputs": [],
   "source": [
    "plot_tallies(rand_string, 4)"
   ]
  },
  {
   "cell_type": "code",
   "execution_count": null,
   "metadata": {},
   "outputs": [],
   "source": [
    "constant_string = \"01100\" * 15\n",
    "check_random(constant_string)"
   ]
  },
  {
   "cell_type": "code",
   "execution_count": null,
   "metadata": {},
   "outputs": [],
   "source": [
    "plot_tallies(constant_string, 4)"
   ]
  },
  {
   "cell_type": "code",
   "execution_count": null,
   "metadata": {},
   "outputs": [],
   "source": []
  }
 ],
 "metadata": {
  "language_info": {
   "name": "python",
   "pygments_lexer": "ipython3"
  }
 },
 "nbformat": 4,
 "nbformat_minor": 4
}
