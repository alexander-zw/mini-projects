{
 "cells": [
  {
   "cell_type": "markdown",
   "metadata": {},
   "source": [
    "# Lorentz Transfromations"
   ]
  },
  {
   "cell_type": "code",
   "execution_count": null,
   "metadata": {},
   "outputs": [],
   "source": [
    "import numpy as np\n",
    "import matplotlib.pyplot as plt\n",
    "from matplotlib.widgets import Slider"
   ]
  },
  {
   "cell_type": "markdown",
   "metadata": {},
   "source": [
    "## Events Under Reference Frame Change\n",
    "\n",
    "Below is a spacetime diagram with one spacial dimension and three objects in it. Slide the slider to change the velocity of your reference frame and observe how the objects' trajectories move.\n",
    "\n",
    "One of the points, the one at t=2, x=0 with a zero speed reference frame, has its possible values graphed on a red line."
   ]
  },
  {
   "cell_type": "code",
   "execution_count": null,
   "metadata": {},
   "outputs": [],
   "source": [
    "%matplotlib notebook"
   ]
  },
  {
   "cell_type": "code",
   "execution_count": null,
   "metadata": {},
   "outputs": [],
   "source": [
    "def slider_on_changed(val):\n",
    "    gamma = 1 / np.sqrt(1 - (v_slider.val / c)**2)\n",
    "\n",
    "    line1.set_ydata(gamma * (t - v_slider.val * x1 / c**2))\n",
    "    line1.set_xdata(gamma * (x1 - v_slider.val * t))\n",
    "\n",
    "    line2.set_ydata(gamma * (t - v_slider.val * x2 / c**2))\n",
    "    line2.set_xdata(gamma * (x2 - v_slider.val * t))\n",
    "\n",
    "    line3.set_ydata(gamma * (t - v_slider.val * x3 / c**2))\n",
    "    line3.set_xdata(gamma * (x3 - v_slider.val * t))\n",
    "\n",
    "    fig.canvas.draw_idle()\n",
    "\n",
    "c = 1 # Use units of speedseconds and seconds."
   ]
  },
  {
   "cell_type": "code",
   "execution_count": null,
   "metadata": {},
   "outputs": [],
   "source": [
    "t = np.arange(-5, 5, 1)\n",
    "x1 = 0 * t\n",
    "x2 = 0.5 * t\n",
    "x3 = 0 * t + 5\n",
    "\n",
    "fig = plt.figure()\n",
    "ax = fig.add_subplot(111)\n",
    "plt.subplots_adjust(bottom=0.2)\n",
    "ax.margins(x=0)\n",
    "\n",
    "[line1] = ax.plot(x1, t, 'o')\n",
    "[line2] = ax.plot(x2, t, 'o')\n",
    "[line3] = ax.plot(x3, t, 'o')\n",
    "ax.set_xlabel('x')\n",
    "ax.set_ylabel('t')\n",
    "ax.set_xlim([-10, 10])\n",
    "ax.set_ylim([-10, 10])\n",
    "ax.legend(['x1', 'x2', 'x3'])\n",
    "\n",
    "t0 = 2\n",
    "x_traj = np.arange(-10, 10, 0.001)\n",
    "t_traj = np.sqrt(x_traj**2 / c**2 + t0**2)\n",
    "\n",
    "plt.plot(x_traj, t_traj, 'r')\n",
    "\n",
    "v_slider_ax  = fig.add_axes([0.2, 0.05, 0.65, 0.03])\n",
    "v_slider = Slider(v_slider_ax, 'v', -0.99, 0.99, valinit=0)\n",
    "v_slider.on_changed(slider_on_changed)\n",
    "\n",
    "plt.show()"
   ]
  },
  {
   "cell_type": "markdown",
   "metadata": {},
   "source": [
    "## Trajectory of a Single Event\n",
    "\n",
    "Below is a graph of the positions in spacetime of a single event, as the reference frame speed changes. The event is at t=2, x=0 in the reference frame with zero speed."
   ]
  },
  {
   "cell_type": "code",
   "execution_count": null,
   "metadata": {},
   "outputs": [],
   "source": [
    "%matplotlib inline"
   ]
  },
  {
   "cell_type": "code",
   "execution_count": null,
   "metadata": {},
   "outputs": [],
   "source": [
    "c = 1\n",
    "t0 = 2\n",
    "\n",
    "x_traj = np.arange(-5, 5, 0.001)\n",
    "t_traj = np.sqrt(x_traj**2 / c**2 + t0**2)\n",
    "\n",
    "plt.plot(x_traj, t_traj)\n",
    "plt.xlabel('x')\n",
    "plt.ylabel('t')\n",
    "plt.ylim([0, 5])\n",
    "plt.title('Trajectory of an event in spacetime')\n",
    "plt.show()"
   ]
  },
  {
   "cell_type": "code",
   "execution_count": null,
   "metadata": {},
   "outputs": [],
   "source": []
  }
 ],
 "metadata": {
  "language_info": {
   "name": "python",
   "pygments_lexer": "ipython3"
  }
 },
 "nbformat": 4,
 "nbformat_minor": 4
}
