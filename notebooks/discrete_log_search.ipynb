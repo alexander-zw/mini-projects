{
 "cells": [
  {
   "cell_type": "code",
   "execution_count": 58,
   "id": "cf744469",
   "metadata": {
    "ExecuteTime": {
     "end_time": "2021-12-09T05:43:14.545922Z",
     "start_time": "2021-12-09T05:43:14.543633Z"
    }
   },
   "outputs": [],
   "source": [
    "from math import sqrt\n",
    "from random import randrange\n",
    "from typing import Callable"
   ]
  },
  {
   "cell_type": "code",
   "execution_count": 78,
   "id": "4f721f24",
   "metadata": {
    "ExecuteTime": {
     "end_time": "2021-12-09T05:56:51.585548Z",
     "start_time": "2021-12-09T05:56:51.577336Z"
    }
   },
   "outputs": [],
   "source": [
    "class Element:\n",
    "    def __init__(self, val, p):\n",
    "        self.val = val\n",
    "        self.p = p\n",
    "        \n",
    "    def get_group(self):\n",
    "        return Group(p)\n",
    "        \n",
    "    def __mul__(self, other):\n",
    "        return Element(self.val * other.val % self.p, self.p)\n",
    "    \n",
    "    def inv(self):\n",
    "        return Element(pow(self.val, -1, self.p), self.p)\n",
    "    \n",
    "    def __truediv__(self, other):\n",
    "        return self * other.inv()\n",
    "    \n",
    "    def __pow__(self, exponent):\n",
    "        return Element(pow(self.val, exponent, self.p), self.p)\n",
    "    \n",
    "    def __eq__(self, other):\n",
    "        return self.val == other.val\n",
    "    \n",
    "    def __hash__(self):\n",
    "        return hash(self.val)\n",
    "    \n",
    "    def __repr__(self):\n",
    "        return f\"Element({repr(self.val)}, {repr(self.p)})\"\n",
    "    \n",
    "    def __str__(self):\n",
    "        return str(self.val)\n",
    "\n",
    "class Group:\n",
    "    def __init__(self, p):\n",
    "        self.p = p\n",
    "\n",
    "    def new(self, val):\n",
    "        return Element(val, self.p)\n",
    "\n",
    "def find_log_naive(x, y):\n",
    "    for i in range(0, x.p - 1):\n",
    "        if x**i == y:\n",
    "            return i\n",
    "    print(f\"y={y} has no discrete log base x={x}\")\n",
    "    \n",
    "def find_log(x, y):\n",
    "    while True:\n",
    "        powers = dict()\n",
    "        for _ in range(0, int(sqrt(x.p))):\n",
    "            i = randrange(0, x.p)\n",
    "            powers[x**i] = i\n",
    "        for (z, i) in powers.items():\n",
    "            diff = y / x**i\n",
    "            if diff in powers:\n",
    "                j = powers[diff]\n",
    "                return i + j\n",
    "        print(\"Retrying...\")"
   ]
  },
  {
   "cell_type": "code",
   "execution_count": 96,
   "id": "638f98dc",
   "metadata": {
    "ExecuteTime": {
     "end_time": "2021-12-09T06:00:27.388732Z",
     "start_time": "2021-12-09T06:00:27.385353Z"
    }
   },
   "outputs": [
    {
     "name": "stdout",
     "output_type": "stream",
     "text": [
      "log_5(9) = 4\n"
     ]
    }
   ],
   "source": [
    "group = Group(11)\n",
    "x = group.new(5)\n",
    "y = group.new(9)\n",
    "log = find_log_naive(x, y)\n",
    "print(f\"log_{x}({y}) = {log}\")\n",
    "assert x**log == y"
   ]
  },
  {
   "cell_type": "code",
   "execution_count": 93,
   "id": "79d61d3e",
   "metadata": {
    "ExecuteTime": {
     "end_time": "2021-12-09T05:58:59.075431Z",
     "start_time": "2021-12-09T05:58:56.480156Z"
    }
   },
   "outputs": [
    {
     "name": "stdout",
     "output_type": "stream",
     "text": [
      "log_3(8) = 148065104099\n"
     ]
    }
   ],
   "source": [
    "group = Group(87178291199)\n",
    "x = group.new(3)\n",
    "y = group.new(8)\n",
    "log = find_log(x, y)\n",
    "print(f\"log_{x}({y}) = {log}\")\n",
    "assert x**log == y"
   ]
  },
  {
   "cell_type": "code",
   "execution_count": 94,
   "id": "b95d174f",
   "metadata": {
    "ExecuteTime": {
     "end_time": "2021-12-09T05:59:03.696856Z",
     "start_time": "2021-12-09T05:59:03.693675Z"
    }
   },
   "outputs": [
    {
     "data": {
      "text/plain": [
       "Element(8, 87178291199)"
      ]
     },
     "execution_count": 94,
     "metadata": {},
     "output_type": "execute_result"
    }
   ],
   "source": [
    "x**148065104099"
   ]
  },
  {
   "cell_type": "code",
   "execution_count": null,
   "id": "29c95066",
   "metadata": {},
   "outputs": [],
   "source": []
  }
 ],
 "metadata": {
  "kernelspec": {
   "display_name": "Python 3",
   "language": "python",
   "name": "python3"
  },
  "language_info": {
   "codemirror_mode": {
    "name": "ipython",
    "version": 3
   },
   "file_extension": ".py",
   "mimetype": "text/x-python",
   "name": "python",
   "nbconvert_exporter": "python",
   "pygments_lexer": "ipython3",
   "version": "3.9.7"
  },
  "toc": {
   "base_numbering": 1,
   "nav_menu": {},
   "number_sections": true,
   "sideBar": true,
   "skip_h1_title": false,
   "title_cell": "Table of Contents",
   "title_sidebar": "Contents",
   "toc_cell": false,
   "toc_position": {},
   "toc_section_display": true,
   "toc_window_display": false
  }
 },
 "nbformat": 4,
 "nbformat_minor": 5
}
