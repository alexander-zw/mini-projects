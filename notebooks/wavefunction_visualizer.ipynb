{
 "cells": [
  {
   "cell_type": "markdown",
   "metadata": {},
   "source": [
    "# The Wavefunction Visualizer"
   ]
  },
  {
   "cell_type": "markdown",
   "metadata": {},
   "source": [
    "This notebook contains functions to visualize quantum wavefunctions. You can view any wavefunction in 2D, or 3D, either animated or with a slider for time. Simply define a Python function that gives $\\Psi(x,t)$ and call one of the util functions given."
   ]
  },
  {
   "cell_type": "markdown",
   "metadata": {},
   "source": [
    "## Utils"
   ]
  },
  {
   "cell_type": "code",
   "execution_count": 8,
   "metadata": {
    "ExecuteTime": {
     "end_time": "2021-12-06T00:32:32.795361Z",
     "start_time": "2021-12-06T00:32:32.544290Z"
    }
   },
   "outputs": [],
   "source": [
    "# Imports.\n",
    "import numpy as np\n",
    "import siunits as u\n",
    "import matplotlib.pyplot as plt\n",
    "from matplotlib.widgets import Slider\n",
    "from matplotlib.animation import FuncAnimation\n",
    "import mpl_toolkits.mplot3d.axes3d as p3\n",
    "from matplotlib import rc\n",
    "from IPython.display import HTML, Image, display\n",
    "from collections.abc import Iterable\n",
    "%matplotlib notebook"
   ]
  },
  {
   "cell_type": "code",
   "execution_count": 2,
   "metadata": {
    "ExecuteTime": {
     "end_time": "2021-12-06T00:31:53.284653Z",
     "start_time": "2021-12-06T00:31:53.281351Z"
    }
   },
   "outputs": [],
   "source": [
    "\"\"\"\n",
    "Constants.\n",
    "\n",
    "You may use them, but the more important part is visualizing the wavefunction's overall shape, so using dummy\n",
    "values for any constants should be sufficient.\n",
    "\"\"\"\n",
    "pi = np.pi # To make code more succinct.\n",
    "\n",
    "c = 299_792_458 # Speed of light.\n",
    "h = 6.62607015e-34 # Planck's constant.\n",
    "hbar = h / (2 * pi)\n",
    "eps0 = 8.8541878128e-12 # Permitivity of free space.\n",
    "e = 1.602176634e-19 # Elementary charge.\n",
    "m_e = 9.1093837015e-31 # Mass of electron.\n",
    "a0 = 5.29177210903e-11 # Bohr radius."
   ]
  },
  {
   "cell_type": "code",
   "execution_count": 3,
   "metadata": {
    "ExecuteTime": {
     "end_time": "2021-12-06T00:32:02.631796Z",
     "start_time": "2021-12-06T00:32:02.600783Z"
    }
   },
   "outputs": [],
   "source": [
    "\"\"\" Helpers. \"\"\"\n",
    "\n",
    "def graph_wavefunction(psi_func, x_range, t, y_range, name=None, x_count=1000):\n",
    "    \"\"\" Graphs only one moment in time. \"\"\"\n",
    "    x = np.linspace(x_range[0], x_range[1], x_count)\n",
    "    psi = psi_func(x, t)\n",
    "    psi_sq = np.abs(psi)**2\n",
    "    psi_arg = np.angle(psi)\n",
    "    psi_re = np.real(psi)\n",
    "    psi_im = np.imag(psi)\n",
    "\n",
    "    fig = plt.figure()\n",
    "    ax = fig.add_subplot(111)\n",
    "    \n",
    "    ax.plot(x, psi_sq)\n",
    "    ax.plot(x, psi_arg)\n",
    "    ax.plot(x, psi_re)\n",
    "    ax.plot(x, psi_im)\n",
    "\n",
    "    title = name + ' ' if name else ''\n",
    "    ax.set_title(title + 'wavefunction $\\Psi(x,t)$')\n",
    "    ax.set_xlabel('x')\n",
    "    ax.set_ylabel('value')\n",
    "    ax.set_xlim(x_range)\n",
    "    ax.set_ylim(y_range)\n",
    "    ax.legend(['$|\\Psi|^2$', 'arg$(\\Psi)$', '$\\Re(\\Psi)$', '$\\Im(\\Psi)$'])\n",
    "\n",
    "    plt.show()\n",
    "\n",
    "def graph_wavefunction_animated(psi_func, x_range, t_range, y_range, name=None, x_count=500, t_count=40,\n",
    "                               use_html=False, save_as_gif=False, export_name=None, gif_fps=60, legend=None):\n",
    "    \"\"\"\n",
    "    Returns the animation object. To ensure smooth execution, save this object outside the function.\n",
    "    \n",
    "    If psi_func is a list, graphs each function. Otherwise graphs the norm squared, argument, real part,\n",
    "    and imaginary part of the one function provided.\n",
    "    \"\"\"\n",
    "    multiple = isinstance(psi_func, Iterable)\n",
    "    fig, ax = plt.subplots()\n",
    "    \n",
    "    x = np.linspace(x_range[0], x_range[1], x_count)\n",
    "    if multiple:\n",
    "        lines = []\n",
    "        for func in psi_func:\n",
    "            [line] = ax.plot(x, func(x, t_range[0]))\n",
    "            lines.append(line)\n",
    "    else:\n",
    "        psi = psi_func(x, t_range[0])\n",
    "        [line_psi_sq] = ax.plot(x, np.abs(psi)**2)\n",
    "        [line_psi_arg] = ax.plot(x, np.angle(psi))\n",
    "        [line_psi_re] = ax.plot(x, np.real(psi))\n",
    "        [line_psi_im] = ax.plot(x, np.imag(psi))\n",
    "\n",
    "    legend = legend if legend else ['$|\\Psi|^2$', 'arg$(\\Psi)$', '$\\Re(\\Psi)$', '$\\Im(\\Psi)$']\n",
    "    def init():\n",
    "        title = name + ' ' if name else ''\n",
    "        ax.set_title(title + 'wavefunction $\\Psi(x,t)$')\n",
    "        ax.set_xlabel('x')\n",
    "        ax.set_ylabel('value')\n",
    "        ax.set_xlim(x_range)\n",
    "        ax.set_ylim(y_range)\n",
    "        ax.legend(legend)\n",
    "        if multiple:\n",
    "            return lines\n",
    "        else:\n",
    "            return [line_psi_sq, line_psi_re, line_psi_arg, line_psi_im]\n",
    "\n",
    "    def update(t):\n",
    "        if multiple:\n",
    "            for i in range(len(psi_func)):\n",
    "                lines[i].set_ydata(psi_func[i](x, t))\n",
    "            return lines\n",
    "        else:\n",
    "            psi = psi_func(x, t)\n",
    "            line_psi_sq.set_ydata(np.abs(psi)**2)\n",
    "            line_psi_arg.set_ydata(np.angle(psi))\n",
    "            line_psi_re.set_ydata(np.real(psi))\n",
    "            line_psi_im.set_ydata(np.imag(psi))\n",
    "            return [line_psi_sq, line_psi_re, line_psi_arg, line_psi_im]\n",
    "\n",
    "    rc('animation', html='html5')\n",
    "    ani = FuncAnimation(fig, update, frames=np.linspace(t_range[0], t_range[1], t_count),\n",
    "                        init_func=init, blit=True)\n",
    "    if use_html:\n",
    "        HTML(ani.to_jshtml())\n",
    "    else:\n",
    "        plt.show()\n",
    "    \n",
    "    if save_as_gif:\n",
    "        export_name = export_name if export_name else name\n",
    "        if export_name:\n",
    "            print(f'Saving as {export_name}.gif...')\n",
    "            ani.save(f'./{export_name}.gif', writer='imagemagick', fps=gif_fps)\n",
    "            print('Done')\n",
    "        else:\n",
    "            print('Cannot save as gif without a file name, aborting')\n",
    "    return ani\n",
    "\n",
    "def graph_wavefunction_3d(psi_func, x_range, t, y_ranges, name=None, x_count=500, trace_xs=[]):\n",
    "    \"\"\"\n",
    "    x_traces is a list of x values where an animated line will be drawn from 0 to Psi(x, t).\n",
    "    \"\"\"\n",
    "    fig = plt.figure()\n",
    "    ax = p3.Axes3D(fig)\n",
    "\n",
    "    psi_re = lambda x: np.real(psi_func(x, t))\n",
    "    psi_im = lambda x: np.imag(psi_func(x, t))\n",
    "    psi_sq = lambda x: np.abs(psi_func(x, t))**2\n",
    "\n",
    "    x = np.linspace(x_range[0], x_range[1], x_count)\n",
    "    zeros = np.full(x_count, 0)\n",
    "    # Use y as imaginary Psi, z as real Psi.\n",
    "    ax.plot(x, psi_im(x), psi_re(x))\n",
    "    ax.plot(x, zeros, psi_sq(x))\n",
    "    ax.plot(x, zeros, zeros)\n",
    "\n",
    "    for x_tr in trace_xs:\n",
    "        trace_array = np.full(x_count, x_tr)\n",
    "        psi_tr_re = psi_re(x_tr)\n",
    "        psi_tr_im = psi_im(x_tr)\n",
    "        ax.plot(trace_array, np.linspace(0, psi_tr_im, x_count), np.linspace(0, psi_tr_re, x_count))\n",
    "\n",
    "    title = name + ' ' if name else ''\n",
    "    ax.set_title(title + 'wavefunction $\\Psi(x,t)$')\n",
    "\n",
    "    # Setting the axes properties\n",
    "    ax.set_xlim3d(x_range)\n",
    "    ax.set_xlabel('x')\n",
    "\n",
    "    ax.set_ylim3d(y_ranges[0])\n",
    "    ax.set_ylabel(r'$\\Im(\\Psi(x,t))$')\n",
    "\n",
    "    ax.set_zlim3d(y_ranges[1])\n",
    "    ax.set_zlabel(r'$\\Re(\\Psi(x,t))$')\n",
    "\n",
    "    ax.set_title(name)\n",
    "    ax.legend(['$\\Psi$', '$|\\Psi|^2$', 'x axis'])\n",
    "\n",
    "    plt.show()\n",
    "\n",
    "def graph_wavefunction_3d_animated(psi_func, x_range, t_range, y_ranges, name=None, x_count=500, t_count=40,\n",
    "                                   trace_xs=[], use_html=False, save_as_gif=False, export_name=None, gif_fps=60):\n",
    "    \"\"\"\n",
    "    Returns the animation object. To ensure smooth execution, save this object outside the function.\n",
    "    \n",
    "    x_traces is a list of x values where an animated line will be drawn from 0 to Psi(x, t).\n",
    "    \"\"\"\n",
    "    fig = plt.figure()\n",
    "    ax = p3.Axes3D(fig)\n",
    "\n",
    "    psi_re = lambda x, t: np.real(psi_func(x, t))\n",
    "    psi_im = lambda x, t: np.imag(psi_func(x, t))\n",
    "    psi_sq = lambda x, t: np.abs(psi_func(x, t))**2\n",
    "\n",
    "    x = np.linspace(x_range[0], x_range[1], x_count)\n",
    "    zeros = np.full(x_count, 0)\n",
    "    # Use y as imaginary Psi, z as real Psi.\n",
    "    [line_psi] = ax.plot(x, psi_im(x, t_range[0]), psi_re(x, t_range[0]))\n",
    "    [line_psi_sq] = ax.plot(x, zeros, psi_sq(x, t_range[0]))\n",
    "    [x_axis] = ax.plot(x, zeros, zeros)\n",
    "\n",
    "    trace_arrays = []\n",
    "    x_trace_lines = []\n",
    "    for x_tr in trace_xs:\n",
    "        trace_array = np.full(x_count, x_tr)\n",
    "        trace_arrays.append(trace_array)\n",
    "        psi_tr_re = psi_re(x_tr, t_range[0])\n",
    "        psi_tr_im = psi_im(x_tr, t_range[0])\n",
    "        x_trace_lines.append(ax.plot(trace_array, np.linspace(0, psi_tr_im, x_count),\n",
    "                                                  np.linspace(0, psi_tr_re, x_count))[0])\n",
    "\n",
    "    def init():\n",
    "        title = name + ' ' if name else ''\n",
    "        ax.set_title(title + 'wavefunction $\\Psi(x,t)$')\n",
    "\n",
    "        # Setting the axes properties\n",
    "        ax.set_xlim3d(x_range)\n",
    "        ax.set_xlabel('x')\n",
    "\n",
    "        ax.set_ylim3d(y_ranges[0])\n",
    "        ax.set_ylabel(r'$\\Im(\\Psi(x,t))$')\n",
    "\n",
    "        ax.set_zlim3d(y_ranges[1])\n",
    "        ax.set_zlabel(r'$\\Re(\\Psi(x,t))$')\n",
    "\n",
    "        ax.set_title(name)\n",
    "        ax.legend(['$\\Psi$', '$|\\Psi|^2$', 'x axis'])\n",
    "\n",
    "        plt.show()\n",
    "        return [line_psi, line_psi_sq] + x_trace_lines\n",
    "\n",
    "    def update(t):\n",
    "        line_psi.set_data([x, psi_im(x, t)])\n",
    "        line_psi.set_3d_properties(psi_re(x, t))\n",
    "        line_psi_sq.set_data([x, zeros])\n",
    "        line_psi_sq.set_3d_properties(psi_sq(x, t))\n",
    "        \n",
    "        for i, x_tr in enumerate(trace_xs):\n",
    "            psi_tr_re = psi_re(x_tr, t)\n",
    "            psi_tr_im = psi_im(x_tr, t)\n",
    "            x_trace_lines[i].set_data([trace_arrays[i], np.linspace(0, psi_tr_im, x_count)])\n",
    "            x_trace_lines[i].set_3d_properties(np.linspace(0, psi_tr_re, x_count))\n",
    "        return [line_psi, line_psi_sq] + x_trace_lines\n",
    "\n",
    "    rc('animation', html='html5')\n",
    "    ani = FuncAnimation(fig, update, frames=np.linspace(t_range[0], t_range[1], t_count),\n",
    "                        init_func=init, blit=True)\n",
    "    if use_html:\n",
    "        HTML(ani.to_jshtml())\n",
    "    else:\n",
    "        plt.show()\n",
    "    \n",
    "    if save_as_gif:\n",
    "        export_name = export_name if export_name else name\n",
    "        if export_name:\n",
    "            print(f'Saving as {export_name}.gif...')\n",
    "            ani.save(f'./{export_name}.gif', writer='imagemagick', fps=gif_fps)\n",
    "            print('Done')\n",
    "        else:\n",
    "            print('Cannot save as gif without a file name, aborting')\n",
    "    return ani\n",
    "\n",
    "t_slider = None # The slider has to be kept globally for some reason.\n",
    "\n",
    "def graph_wavefunction_slider(psi_func, x_range, t_range, y_range, name=None, x_count=1000, t_init=0):\n",
    "    global t_slider\n",
    "    \n",
    "    def slider_on_changed(val):\n",
    "        psi = psi_func(x, t_slider.val)\n",
    "        line_psi_sq.set_ydata(np.abs(psi)**2)\n",
    "        line_psi_arg.set_ydata(np.angle(psi))\n",
    "        line_psi_re.set_ydata(np.real(psi))\n",
    "        line_psi_im.set_ydata(np.imag(psi))\n",
    "        fig.canvas.draw_idle()\n",
    "\n",
    "    x = np.linspace(x_range[0], x_range[1], x_count)\n",
    "    psi = psi_func(x, t_init)\n",
    "    psi_sq = np.abs(psi)**2\n",
    "    psi_arg = np.angle(psi)\n",
    "    psi_re = np.real(psi)\n",
    "    psi_im = np.imag(psi)\n",
    "\n",
    "    fig = plt.figure()\n",
    "    ax = fig.add_subplot(111)\n",
    "    plt.subplots_adjust(bottom=0.2)\n",
    "    ax.margins(x=0)\n",
    "\n",
    "    [line_psi_sq] = ax.plot(x, psi_sq)\n",
    "    [line_psi_arg] = ax.plot(x, psi_arg)\n",
    "    [line_psi_re] = ax.plot(x, psi_re)\n",
    "    [line_psi_im] = ax.plot(x, psi_im)\n",
    "\n",
    "    title = name + ' ' if name else ''\n",
    "    ax.set_title(title + 'wavefunction $\\Psi(x,t)$')\n",
    "    ax.set_xlabel('x')\n",
    "    ax.set_ylabel('value')\n",
    "    ax.set_xlim(x_range)\n",
    "    ax.set_ylim(y_range)\n",
    "    ax.legend(['$|\\Psi|^2$', 'arg$(\\Psi)$', '$\\Re(\\Psi)$', '$\\Im(\\Psi)$'])\n",
    "\n",
    "    t_slider_ax  = fig.add_axes([0.2, 0.05, 0.65, 0.03])\n",
    "    t_slider = Slider(t_slider_ax, 't', t_range[0], t_range[1], valinit=t_init)\n",
    "    t_slider.on_changed(slider_on_changed)\n",
    "\n",
    "    plt.show()"
   ]
  },
  {
   "cell_type": "markdown",
   "metadata": {},
   "source": [
    "## Example: Free Particle"
   ]
  },
  {
   "cell_type": "code",
   "execution_count": 4,
   "metadata": {
    "ExecuteTime": {
     "end_time": "2021-12-06T00:32:06.087713Z",
     "start_time": "2021-12-06T00:32:06.084109Z"
    }
   },
   "outputs": [],
   "source": [
    "# Constants.\n",
    "A = 1\n",
    "k = 1\n",
    "omega = 1\n",
    "\n",
    "def psi_func(x, t):\n",
    "    return A * np.exp(1j * (k * x - omega * t))\n",
    "\n",
    "x_range = [0, 4 * pi]\n",
    "t_range = [0, 2 * pi]\n",
    "y_ranges = [[-1.5, 1.5]] * 2\n",
    "name = 'Free Particle'\n",
    "t_count = 40"
   ]
  },
  {
   "cell_type": "code",
   "execution_count": 5,
   "metadata": {
    "ExecuteTime": {
     "end_time": "2021-12-06T00:32:06.769011Z",
     "start_time": "2021-12-06T00:32:06.759763Z"
    }
   },
   "outputs": [
    {
     "ename": "NameError",
     "evalue": "name 'Iterable' is not defined",
     "output_type": "error",
     "traceback": [
      "\u001b[0;31m---------------------------------------------------------------------------\u001b[0m",
      "\u001b[0;31mNameError\u001b[0m                                 Traceback (most recent call last)",
      "\u001b[0;32m<ipython-input-5-2bf7ff78086a>\u001b[0m in \u001b[0;36m<module>\u001b[0;34m\u001b[0m\n\u001b[1;32m      1\u001b[0m \u001b[0;31m# Graph animated in 2D.\u001b[0m\u001b[0;34m\u001b[0m\u001b[0;34m\u001b[0m\u001b[0m\n\u001b[0;32m----> 2\u001b[0;31m \u001b[0mani\u001b[0m \u001b[0;34m=\u001b[0m \u001b[0mgraph_wavefunction_animated\u001b[0m\u001b[0;34m(\u001b[0m\u001b[0mpsi_func\u001b[0m\u001b[0;34m,\u001b[0m \u001b[0mx_range\u001b[0m\u001b[0;34m,\u001b[0m \u001b[0mt_range\u001b[0m\u001b[0;34m,\u001b[0m \u001b[0;34m[\u001b[0m\u001b[0;34m-\u001b[0m\u001b[0mpi\u001b[0m\u001b[0;34m,\u001b[0m \u001b[0mpi\u001b[0m\u001b[0;34m]\u001b[0m\u001b[0;34m,\u001b[0m \u001b[0mname\u001b[0m\u001b[0;34m=\u001b[0m\u001b[0mname\u001b[0m\u001b[0;34m,\u001b[0m \u001b[0mt_count\u001b[0m\u001b[0;34m=\u001b[0m\u001b[0mt_count\u001b[0m\u001b[0;34m)\u001b[0m\u001b[0;34m\u001b[0m\u001b[0;34m\u001b[0m\u001b[0m\n\u001b[0m",
      "\u001b[0;32m<ipython-input-3-6ce41b3a7284>\u001b[0m in \u001b[0;36mgraph_wavefunction_animated\u001b[0;34m(psi_func, x_range, t_range, y_range, name, x_count, t_count, use_html, save_as_gif, export_name, gif_fps, legend)\u001b[0m\n\u001b[1;32m     36\u001b[0m     \u001b[0;32mand\u001b[0m \u001b[0mimaginary\u001b[0m \u001b[0mpart\u001b[0m \u001b[0mof\u001b[0m \u001b[0mthe\u001b[0m \u001b[0mone\u001b[0m \u001b[0mfunction\u001b[0m \u001b[0mprovided\u001b[0m\u001b[0;34m.\u001b[0m\u001b[0;34m\u001b[0m\u001b[0;34m\u001b[0m\u001b[0m\n\u001b[1;32m     37\u001b[0m     \"\"\"\n\u001b[0;32m---> 38\u001b[0;31m     \u001b[0mmultiple\u001b[0m \u001b[0;34m=\u001b[0m \u001b[0misinstance\u001b[0m\u001b[0;34m(\u001b[0m\u001b[0mpsi_func\u001b[0m\u001b[0;34m,\u001b[0m \u001b[0mIterable\u001b[0m\u001b[0;34m)\u001b[0m\u001b[0;34m\u001b[0m\u001b[0;34m\u001b[0m\u001b[0m\n\u001b[0m\u001b[1;32m     39\u001b[0m     \u001b[0mfig\u001b[0m\u001b[0;34m,\u001b[0m \u001b[0max\u001b[0m \u001b[0;34m=\u001b[0m \u001b[0mplt\u001b[0m\u001b[0;34m.\u001b[0m\u001b[0msubplots\u001b[0m\u001b[0;34m(\u001b[0m\u001b[0;34m)\u001b[0m\u001b[0;34m\u001b[0m\u001b[0;34m\u001b[0m\u001b[0m\n\u001b[1;32m     40\u001b[0m \u001b[0;34m\u001b[0m\u001b[0m\n",
      "\u001b[0;31mNameError\u001b[0m: name 'Iterable' is not defined"
     ]
    }
   ],
   "source": [
    "# Graph animated in 2D.\n",
    "ani = graph_wavefunction_animated(psi_func, x_range, t_range, [-pi, pi], name=name, t_count=t_count)"
   ]
  },
  {
   "cell_type": "code",
   "execution_count": 6,
   "metadata": {
    "ExecuteTime": {
     "end_time": "2021-12-06T00:32:22.987497Z",
     "start_time": "2021-12-06T00:32:22.979097Z"
    }
   },
   "outputs": [
    {
     "ename": "NameError",
     "evalue": "name 'plt' is not defined",
     "output_type": "error",
     "traceback": [
      "\u001b[0;31m---------------------------------------------------------------------------\u001b[0m",
      "\u001b[0;31mNameError\u001b[0m                                 Traceback (most recent call last)",
      "\u001b[0;32m<ipython-input-6-9c9a67f25594>\u001b[0m in \u001b[0;36m<module>\u001b[0;34m\u001b[0m\n\u001b[1;32m      1\u001b[0m \u001b[0;31m# Graph stationary in 3D.\u001b[0m\u001b[0;34m\u001b[0m\u001b[0;34m\u001b[0m\u001b[0m\n\u001b[0;32m----> 2\u001b[0;31m \u001b[0mfig\u001b[0m \u001b[0;34m=\u001b[0m \u001b[0mplt\u001b[0m\u001b[0;34m.\u001b[0m\u001b[0mfigure\u001b[0m\u001b[0;34m(\u001b[0m\u001b[0;34m)\u001b[0m\u001b[0;34m\u001b[0m\u001b[0;34m\u001b[0m\u001b[0m\n\u001b[0m\u001b[1;32m      3\u001b[0m \u001b[0max\u001b[0m \u001b[0;34m=\u001b[0m \u001b[0mp3\u001b[0m\u001b[0;34m.\u001b[0m\u001b[0mAxes3D\u001b[0m\u001b[0;34m(\u001b[0m\u001b[0mfig\u001b[0m\u001b[0;34m)\u001b[0m\u001b[0;34m\u001b[0m\u001b[0;34m\u001b[0m\u001b[0m\n\u001b[1;32m      4\u001b[0m \u001b[0;34m\u001b[0m\u001b[0m\n\u001b[1;32m      5\u001b[0m \u001b[0mpsi_real\u001b[0m \u001b[0;34m=\u001b[0m \u001b[0;32mlambda\u001b[0m \u001b[0mx\u001b[0m\u001b[0;34m,\u001b[0m \u001b[0mt\u001b[0m\u001b[0;34m:\u001b[0m \u001b[0mnp\u001b[0m\u001b[0;34m.\u001b[0m\u001b[0mreal\u001b[0m\u001b[0;34m(\u001b[0m\u001b[0mpsi_func\u001b[0m\u001b[0;34m(\u001b[0m\u001b[0mx\u001b[0m\u001b[0;34m,\u001b[0m \u001b[0mt\u001b[0m\u001b[0;34m)\u001b[0m\u001b[0;34m)\u001b[0m\u001b[0;34m\u001b[0m\u001b[0;34m\u001b[0m\u001b[0m\n",
      "\u001b[0;31mNameError\u001b[0m: name 'plt' is not defined"
     ]
    }
   ],
   "source": [
    "# Graph stationary in 3D.\n",
    "fig = plt.figure()\n",
    "ax = p3.Axes3D(fig)\n",
    "\n",
    "psi_real = lambda x, t: np.real(psi_func(x, t))\n",
    "psi_imag = lambda x, t: np.imag(psi_func(x, t))\n",
    "\n",
    "x = np.linspace(x_range[0], x_range[1], 500)\n",
    "\n",
    "ax.plot(x, psi_real(x, 0), psi_imag(x, 0))\n",
    "\n",
    "# Setting the axes properties\n",
    "ax.set_xlim3d(x_range)\n",
    "ax.set_xlabel('x')\n",
    "\n",
    "ax.set_ylim3d(y_ranges[0])\n",
    "ax.set_ylabel(r'$\\Re(\\Psi(x,t))$')\n",
    "\n",
    "ax.set_zlim3d(y_ranges[1])\n",
    "ax.set_zlabel(r'$\\Im(\\Psi(x,t))$')\n",
    "\n",
    "ax.set_title(name)\n",
    "\n",
    "plt.show()"
   ]
  },
  {
   "cell_type": "code",
   "execution_count": 7,
   "metadata": {
    "ExecuteTime": {
     "end_time": "2021-12-06T00:32:24.303113Z",
     "start_time": "2021-12-06T00:32:24.293827Z"
    }
   },
   "outputs": [
    {
     "ename": "NameError",
     "evalue": "name 'plt' is not defined",
     "output_type": "error",
     "traceback": [
      "\u001b[0;31m---------------------------------------------------------------------------\u001b[0m",
      "\u001b[0;31mNameError\u001b[0m                                 Traceback (most recent call last)",
      "\u001b[0;32m<ipython-input-7-534e46af0720>\u001b[0m in \u001b[0;36m<module>\u001b[0;34m\u001b[0m\n\u001b[1;32m      1\u001b[0m \u001b[0;31m# Graph in 3D animated.\u001b[0m\u001b[0;34m\u001b[0m\u001b[0;34m\u001b[0m\u001b[0m\n\u001b[0;32m----> 2\u001b[0;31m ani = graph_wavefunction_3d_animated(psi_func, x_range, t_range, y_ranges, name=name, t_count=t_count,\n\u001b[0m\u001b[1;32m      3\u001b[0m                                      \u001b[0mtrace_xs\u001b[0m\u001b[0;34m=\u001b[0m\u001b[0mx_range\u001b[0m\u001b[0;34m,\u001b[0m\u001b[0;34m\u001b[0m\u001b[0;34m\u001b[0m\u001b[0m\n\u001b[1;32m      4\u001b[0m                                      save_as_gif=False, export_name='gifs/free_particle_3d', gif_fps=15)\n",
      "\u001b[0;32m<ipython-input-3-6ce41b3a7284>\u001b[0m in \u001b[0;36mgraph_wavefunction_3d_animated\u001b[0;34m(psi_func, x_range, t_range, y_ranges, name, x_count, t_count, trace_xs, use_html, save_as_gif, export_name, gif_fps)\u001b[0m\n\u001b[1;32m    146\u001b[0m     \u001b[0mx_traces\u001b[0m \u001b[0;32mis\u001b[0m \u001b[0ma\u001b[0m \u001b[0mlist\u001b[0m \u001b[0mof\u001b[0m \u001b[0mx\u001b[0m \u001b[0mvalues\u001b[0m \u001b[0mwhere\u001b[0m \u001b[0man\u001b[0m \u001b[0manimated\u001b[0m \u001b[0mline\u001b[0m \u001b[0mwill\u001b[0m \u001b[0mbe\u001b[0m \u001b[0mdrawn\u001b[0m \u001b[0;32mfrom\u001b[0m \u001b[0;36m0\u001b[0m \u001b[0mto\u001b[0m \u001b[0mPsi\u001b[0m\u001b[0;34m(\u001b[0m\u001b[0mx\u001b[0m\u001b[0;34m,\u001b[0m \u001b[0mt\u001b[0m\u001b[0;34m)\u001b[0m\u001b[0;34m.\u001b[0m\u001b[0;34m\u001b[0m\u001b[0;34m\u001b[0m\u001b[0m\n\u001b[1;32m    147\u001b[0m     \"\"\"\n\u001b[0;32m--> 148\u001b[0;31m     \u001b[0mfig\u001b[0m \u001b[0;34m=\u001b[0m \u001b[0mplt\u001b[0m\u001b[0;34m.\u001b[0m\u001b[0mfigure\u001b[0m\u001b[0;34m(\u001b[0m\u001b[0;34m)\u001b[0m\u001b[0;34m\u001b[0m\u001b[0;34m\u001b[0m\u001b[0m\n\u001b[0m\u001b[1;32m    149\u001b[0m     \u001b[0max\u001b[0m \u001b[0;34m=\u001b[0m \u001b[0mp3\u001b[0m\u001b[0;34m.\u001b[0m\u001b[0mAxes3D\u001b[0m\u001b[0;34m(\u001b[0m\u001b[0mfig\u001b[0m\u001b[0;34m)\u001b[0m\u001b[0;34m\u001b[0m\u001b[0;34m\u001b[0m\u001b[0m\n\u001b[1;32m    150\u001b[0m \u001b[0;34m\u001b[0m\u001b[0m\n",
      "\u001b[0;31mNameError\u001b[0m: name 'plt' is not defined"
     ]
    }
   ],
   "source": [
    "# Graph in 3D animated.\n",
    "ani = graph_wavefunction_3d_animated(psi_func, x_range, t_range, y_ranges, name=name, t_count=t_count,\n",
    "                                     trace_xs=x_range,\n",
    "                                     save_as_gif=False, export_name='gifs/free_particle_3d', gif_fps=15)"
   ]
  },
  {
   "cell_type": "code",
   "execution_count": null,
   "metadata": {},
   "outputs": [],
   "source": [
    "Image('./gifs/free_particle_3d.gif', width=500) # Run this after setting save_as_gif=True above."
   ]
  },
  {
   "cell_type": "markdown",
   "metadata": {},
   "source": [
    "## Example: Infinite Square Well"
   ]
  },
  {
   "cell_type": "code",
   "execution_count": null,
   "metadata": {},
   "outputs": [],
   "source": [
    "# Constants.\n",
    "c1, c2 = np.sqrt(0.5), np.sqrt(0.5)\n",
    "L = 1\n",
    "omega = 1\n",
    "\n",
    "def psi_func(x, t):\n",
    "    x_phase = pi / L * x\n",
    "    t_phase = -1j * omega * t\n",
    "    term1 = c1 * np.exp(t_phase) * np.sin(x_phase)\n",
    "    term2 = c2 * np.exp(4 * t_phase) * np.sin(2 * x_phase)\n",
    "    return np.sqrt(2 / L) * (term1 + term2)\n",
    "\n",
    "def psi_sq(x, t):\n",
    "    return np.abs(psi_func(x, t))**2\n",
    "\n",
    "def psi1_sq(x, t):\n",
    "    x_phase = pi / L * x\n",
    "    return 2 / L * np.abs(c1)**2 * np.sin(x_phase)**2\n",
    "\n",
    "def psi2_sq(x, t):\n",
    "    x_phase = pi / L * x\n",
    "    return 2 / L * np.abs(c2)**2 * np.sin(2 * x_phase)**2\n",
    "\n",
    "x_range = [0, L]\n",
    "t_range = [0, 2 * pi]\n",
    "y_range = [-pi, pi]\n",
    "y_ranges_3d = [[-1.5, 1.5]] * 2\n",
    "name = 'Infinite square well'\n",
    "t_count = 40\n",
    "gif_fps = 15"
   ]
  },
  {
   "cell_type": "code",
   "execution_count": null,
   "metadata": {},
   "outputs": [],
   "source": [
    "# Graph 2D animated.\n",
    "ani = graph_wavefunction_animated(psi_func, x_range, t_range, y_range, name=name,\n",
    "                                  t_count=t_count, save_as_gif=False,\n",
    "                                  export_name='gifs/inf_square_well', gif_fps=gif_fps)"
   ]
  },
  {
   "cell_type": "code",
   "execution_count": null,
   "metadata": {},
   "outputs": [],
   "source": [
    "# Run this after setting save_as_gif=True above.\n",
    "Image('./gifs/inf_square_well.gif', width=500)"
   ]
  },
  {
   "cell_type": "code",
   "execution_count": null,
   "metadata": {},
   "outputs": [],
   "source": [
    "# Graph 3D animated.\n",
    "ani = graph_wavefunction_3d_animated(psi_func, x_range, t_range, y_ranges_3d, name=name, t_count=t_count,\n",
    "                                     trace_xs=[0.3, 0.5, 0.7], save_as_gif=False,\n",
    "                                     export_name='gifs/inf_square_well_3d_traces', gif_fps=gif_fps)"
   ]
  },
  {
   "cell_type": "code",
   "execution_count": null,
   "metadata": {},
   "outputs": [],
   "source": [
    "# Run this after setting save_as_gif=True above.\n",
    "Image('./gifs/inf_square_well_3d_traces.gif', width=500)"
   ]
  },
  {
   "cell_type": "code",
   "execution_count": null,
   "metadata": {},
   "outputs": [],
   "source": [
    "# Graph our custom real functions instead of the default.\n",
    "ani = graph_wavefunction_animated([psi_sq, psi1_sq, psi2_sq], [0, L], [0, 2 * pi], [-1, 4],\n",
    "                                  name='Infinite square well',\n",
    "                                  legend=['$|\\Psi|^2$', '$|\\Psi_1|^2$', '$|\\Psi_2|^2$'])"
   ]
  },
  {
   "cell_type": "code",
   "execution_count": null,
   "metadata": {},
   "outputs": [],
   "source": [
    "# Graph 2D with a slider for time.\n",
    "graph_wavefunction_slider(psi_func, x_range, t_range, y_range, name=name)"
   ]
  },
  {
   "cell_type": "code",
   "execution_count": null,
   "metadata": {},
   "outputs": [],
   "source": []
  }
 ],
 "metadata": {
  "kernelspec": {
   "display_name": "Python 3",
   "language": "python",
   "name": "python3"
  },
  "language_info": {
   "codemirror_mode": {
    "name": "ipython",
    "version": 3
   },
   "file_extension": ".py",
   "mimetype": "text/x-python",
   "name": "python",
   "nbconvert_exporter": "python",
   "pygments_lexer": "ipython3",
   "version": "3.9.7"
  }
 },
 "nbformat": 4,
 "nbformat_minor": 4
}
